{
 "cells": [
  {
   "cell_type": "code",
   "execution_count": 2,
   "metadata": {},
   "outputs": [],
   "source": [
    "import networkx as nx\n",
    "import networkx.algorithms.community as nx_comm\n",
    "import argparse\n",
    "import numpy as np\n",
    "import pandas as pd\n",
    "from tqdm import tqdm\n",
    "import torch\n",
    "import torch.nn.functional as F\n",
    "from torch import optim\n",
    "\n",
    "def node_connects_cluster(node):\n",
    "    return set(map(lambda x: inverse_cluster_dict[x], list(g[node]))).union(set([inverse_cluster_dict[node]]))\n",
    "\n",
    "path = 'Dataset/socfb-Stanford3.mtx'\n",
    "\n",
    "df = pd.read_table(path, skiprows=1, names = [\"source\", \"target\"], sep=\" \")\n",
    "g = nx.from_pandas_edgelist(df)\n",
    "\n",
    "# calculate basic elements\n",
    "num_nodes = g.number_of_nodes()\n",
    "num_edges = g.number_of_edges()\n",
    "degs = [g.degree[i] for i in g.nodes]\n",
    "avg_deg = sum(degs)/len(degs)\n",
    "\n",
    "\n",
    "clu_res = 1\n",
    "clusters = nx_comm.louvain_communities(g, seed = 10, resolution = clu_res)\n",
    "clusters = sorted(clusters, key = len, reverse=True)\n",
    "cluster_sizes = list(map(len, clusters))\n",
    "num_cluster = len(clusters)\n",
    "\n",
    "# dict: from node to its cluster\n",
    "inverse_cluster_dict = {\n",
    "    node: cl for cl in range(num_cluster) for node in clusters[cl]\n",
    "}\n",
    "\n",
    "# dict: from node to its connected cluster\n",
    "node_to_connected_clusters = {\n",
    "    node: node_connects_cluster(node) for node in range(1, num_nodes + 1)\n",
    "}"
   ]
  },
  {
   "cell_type": "code",
   "execution_count": 3,
   "metadata": {},
   "outputs": [
    {
     "data": {
      "text/plain": [
       "10"
      ]
     },
     "execution_count": 3,
     "metadata": {},
     "output_type": "execute_result"
    }
   ],
   "source": [
    "num_cluster"
   ]
  },
  {
   "cell_type": "code",
   "execution_count": 4,
   "metadata": {},
   "outputs": [],
   "source": [
    "for node in g.nodes:\n",
    "    cl = inverse_cluster_dict[node]\n",
    "    cnt = sum([1 for neighbour in g[node] if inverse_cluster_dict[neighbour] == cl]) # in the same cluster\n",
    "    g.nodes[node]['ai'] = cnt\n",
    "    g.nodes[node]['bi'] =  g.degree[node] - cnt\n",
    "    \n",
    "\n",
    "C_edges = np.zeros((num_cluster, num_cluster), dtype=np.int64)\n",
    "\n",
    "for edge in g.edges:\n",
    "    ci = inverse_cluster_dict[edge[0]]\n",
    "    cj = inverse_cluster_dict[edge[1]]\n",
    "    C_edges[ci,cj] += 1\n",
    "    C_edges[cj,ci] += 1\n",
    "    \n",
    "\n",
    "\n",
    "C_tensor = torch.tensor(C_edges, dtype = torch.float64)"
   ]
  },
  {
   "cell_type": "code",
   "execution_count": 8,
   "metadata": {},
   "outputs": [
    {
     "data": {
      "text/plain": [
       "tensor([[ 0.2498, -0.2491,  0.1572,  0.1212, -0.1576,  0.1898, -0.2489, -0.1214,\n",
       "          0.0722, -0.1563],\n",
       "        [-0.2491,  0.2498, -0.1571, -0.1209,  0.1575, -0.1899,  0.2484,  0.1212,\n",
       "         -0.0723,  0.1563],\n",
       "        [ 0.1572, -0.1571,  0.2498,  0.1641, -0.2492,  0.1053, -0.1577, -0.1645,\n",
       "          0.0256, -0.2476],\n",
       "        [ 0.1212, -0.1209,  0.1641,  0.2498, -0.1639,  0.0768, -0.1216, -0.2496,\n",
       "         -0.0199, -0.1648],\n",
       "        [-0.1576,  0.1575, -0.2492, -0.1639,  0.2498, -0.1056,  0.1581,  0.1642,\n",
       "         -0.0259,  0.2473],\n",
       "        [ 0.1898, -0.1899,  0.1053,  0.0768, -0.1056,  0.2498, -0.1894, -0.0771,\n",
       "          0.0856, -0.1049],\n",
       "        [-0.2489,  0.2484, -0.1577, -0.1216,  0.1581, -0.1894,  0.2498,  0.1219,\n",
       "         -0.0717,  0.1568],\n",
       "        [-0.1214,  0.1212, -0.1645, -0.2496,  0.1642, -0.0771,  0.1219,  0.2498,\n",
       "          0.0197,  0.1651],\n",
       "        [ 0.0722, -0.0723,  0.0256, -0.0199, -0.0259,  0.0856, -0.0717,  0.0197,\n",
       "          0.2498, -0.0240],\n",
       "        [-0.1563,  0.1563, -0.2476, -0.1648,  0.2473, -0.1049,  0.1568,  0.1651,\n",
       "         -0.0240,  0.2498]], dtype=torch.float64)"
      ]
     },
     "execution_count": 8,
     "metadata": {},
     "output_type": "execute_result"
    }
   ],
   "source": [
    "eps = 1e-6\n",
    "U = torch.tensor(np.load(\"optimized_cov/L_matrix_cov_res1_omega1_stf.npy\"))\n",
    "Z = torch.matmul(U, U.T)\n",
    "V = torch.arcsin(Z/(1+eps))/(2*torch.pi)\n",
    "\n",
    "V "
   ]
  },
  {
   "cell_type": "code",
   "execution_count": 10,
   "metadata": {},
   "outputs": [
    {
     "data": {
      "text/plain": [
       "tensor([[207794,  20623,  32982,    834,  32586,   2486,  22251,  10736,     11,\n",
       "              4],\n",
       "        [ 20623, 131136,  13012,   3894,  15516,    533,   9655,   4681,      0,\n",
       "              0],\n",
       "        [ 32982,  13012, 105658,   1291,  19162,    638,  12088,   2325,      1,\n",
       "              0],\n",
       "        [   834,   3894,   1291,  37936,   1531,     97,   1198,    327,      0,\n",
       "              0],\n",
       "        [ 32586,  15516,  19162,   1531,  86852,    755,  10855,   5419,      1,\n",
       "              2],\n",
       "        [  2486,    533,    638,     97,    755,  10452,    770,    250,      0,\n",
       "              0],\n",
       "        [ 22251,   9655,  12088,   1198,  10855,    770,  74794,   2333,      6,\n",
       "              1],\n",
       "        [ 10736,   4681,   2325,    327,   5419,    250,   2333,  24214,      0,\n",
       "              0],\n",
       "        [    11,      0,      1,      0,      1,      0,      6,      0,     52,\n",
       "              0],\n",
       "        [     4,      0,      0,      0,      2,      0,      1,      0,      0,\n",
       "             22]], dtype=torch.int32)"
      ]
     },
     "execution_count": 10,
     "metadata": {},
     "output_type": "execute_result"
    }
   ],
   "source": [
    "C_tensor.int()"
   ]
  },
  {
   "cell_type": "code",
   "execution_count": 14,
   "metadata": {},
   "outputs": [
    {
     "name": "stdout",
     "output_type": "stream",
     "text": [
      "\\begin{bmatrix}\n",
      "  207794  &   20623  &   32982  &     834  &   32586  &    2486  &   22251  &   10736  &      11  &       4 \\\\\n",
      "   20623  &  131136  &   13012  &    3894  &   15516  &     533  &    9655  &    4681  &       0  &       0 \\\\\n",
      "   32982  &   13012  &  105658  &    1291  &   19162  &     638  &   12088  &    2325  &       1  &       0 \\\\\n",
      "     834  &    3894  &    1291  &   37936  &    1531  &      97  &    1198  &     327  &       0  &       0 \\\\\n",
      "   32586  &   15516  &   19162  &    1531  &   86852  &     755  &   10855  &    5419  &       1  &       2 \\\\\n",
      "    2486  &     533  &     638  &      97  &     755  &   10452  &     770  &     250  &       0  &       0 \\\\\n",
      "   22251  &    9655  &   12088  &    1198  &   10855  &     770  &   74794  &    2333  &       6  &       1 \\\\\n",
      "   10736  &    4681  &    2325  &     327  &    5419  &     250  &    2333  &   24214  &       0  &       0 \\\\\n",
      "      11  &       0  &       1  &       0  &       1  &       0  &       6  &       0  &      52  &       0 \\\\\n",
      "       4  &       0  &       0  &       0  &       2  &       0  &       1  &       0  &       0  &      22 \n",
      "\\end{bmatrix}\n"
     ]
    }
   ],
   "source": [
    "import array_to_latex as a2l\n",
    "\n",
    "a2l.to_ltx(C_tensor.int().numpy(), frmt = '{:6d}')"
   ]
  },
  {
   "cell_type": "code",
   "execution_count": 19,
   "metadata": {},
   "outputs": [
    {
     "name": "stdout",
     "output_type": "stream",
     "text": [
      "\\begin{bmatrix}\n",
      "  0.999 & -0.996 &  0.629 &  0.485 & -0.630 &  0.759 & -0.995 & -0.486 &  0.289 & -0.625\\\\\n",
      " -0.996 &  0.999 & -0.628 & -0.483 &  0.630 & -0.759 &  0.994 &  0.485 & -0.289 &  0.625\\\\\n",
      "  0.629 & -0.628 &  0.999 &  0.657 & -0.997 &  0.421 & -0.631 & -0.658 &  0.102 & -0.991\\\\\n",
      "  0.485 & -0.483 &  0.657 &  0.999 & -0.656 &  0.307 & -0.486 & -0.998 & -0.080 & -0.659\\\\\n",
      " -0.630 &  0.630 & -0.997 & -0.656 &  0.999 & -0.423 &  0.632 &  0.657 & -0.104 &  0.989\\\\\n",
      "  0.759 & -0.759 &  0.421 &  0.307 & -0.423 &  0.999 & -0.757 & -0.308 &  0.343 & -0.419\\\\\n",
      " -0.995 &  0.994 & -0.631 & -0.486 &  0.632 & -0.757 &  0.999 &  0.487 & -0.287 &  0.627\\\\\n",
      " -0.486 &  0.485 & -0.658 & -0.998 &  0.657 & -0.308 &  0.487 &  0.999 &  0.079 &  0.661\\\\\n",
      "  0.289 & -0.289 &  0.102 & -0.080 & -0.104 &  0.343 & -0.287 &  0.079 &  0.999 & -0.096\\\\\n",
      " -0.625 &  0.625 & -0.991 & -0.659 &  0.989 & -0.419 &  0.627 &  0.661 & -0.096 &  0.999\n",
      "\\end{bmatrix}\n"
     ]
    }
   ],
   "source": [
    "a2l.to_ltx((4*V).numpy(), frmt = '{:5.3f}')"
   ]
  },
  {
   "cell_type": "markdown",
   "metadata": {},
   "source": []
  },
  {
   "cell_type": "code",
   "execution_count": null,
   "metadata": {},
   "outputs": [],
   "source": []
  }
 ],
 "metadata": {
  "kernelspec": {
   "display_name": "base",
   "language": "python",
   "name": "python3"
  },
  "language_info": {
   "codemirror_mode": {
    "name": "ipython",
    "version": 3
   },
   "file_extension": ".py",
   "mimetype": "text/x-python",
   "name": "python",
   "nbconvert_exporter": "python",
   "pygments_lexer": "ipython3",
   "version": "3.9.17"
  },
  "orig_nbformat": 4
 },
 "nbformat": 4,
 "nbformat_minor": 2
}
