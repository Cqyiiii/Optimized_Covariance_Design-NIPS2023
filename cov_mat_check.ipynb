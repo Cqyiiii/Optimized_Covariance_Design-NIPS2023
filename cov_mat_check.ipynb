{
 "cells": [
  {
   "cell_type": "code",
   "execution_count": 1,
   "metadata": {},
   "outputs": [],
   "source": [
    "import networkx as nx\n",
    "import networkx.algorithms.community as nx_comm\n",
    "import argparse\n",
    "import numpy as np\n",
    "import pandas as pd\n",
    "from tqdm import tqdm\n",
    "import torch\n",
    "import torch.nn.functional as F\n",
    "from torch import optim\n",
    "\n",
    "def node_connects_cluster(node):\n",
    "    return set(map(lambda x: inverse_cluster_dict[x], list(g[node]))).union(set([inverse_cluster_dict[node]]))\n",
    "\n",
    "path = 'Dataset/socfb-Stanford3.mtx'\n",
    "\n",
    "df = pd.read_table(path, skiprows=1, names = [\"source\", \"target\"], sep=\" \")\n",
    "g = nx.from_pandas_edgelist(df)\n",
    "\n",
    "# calculate basic elements\n",
    "num_nodes = g.number_of_nodes()\n",
    "num_edges = g.number_of_edges()\n",
    "degs = [g.degree[i] for i in g.nodes]\n",
    "avg_deg = sum(degs)/len(degs)\n",
    "\n",
    "\n",
    "clu_res = 2 \n",
    "clusters = nx_comm.louvain_communities(g, seed = 10, resolution = clu_res)\n",
    "clusters = sorted(clusters, key = len, reverse=True)\n",
    "cluster_sizes = list(map(len, clusters))\n",
    "num_cluster = len(clusters)\n",
    "\n",
    "# dict: from node to its cluster\n",
    "inverse_cluster_dict = {\n",
    "    node: cl for cl in range(num_cluster) for node in clusters[cl]\n",
    "}\n",
    "\n",
    "# dict: from node to its connected cluster\n",
    "node_to_connected_clusters = {\n",
    "    node: node_connects_cluster(node) for node in range(1, num_nodes + 1)\n",
    "}"
   ]
  },
  {
   "cell_type": "code",
   "execution_count": 13,
   "metadata": {},
   "outputs": [],
   "source": [
    "\n",
    "for node in g.nodes:\n",
    "    cl = inverse_cluster_dict[node]\n",
    "    cnt = sum([1 for neighbour in g[node] if inverse_cluster_dict[neighbour] == cl]) # in the same cluster\n",
    "    g.nodes[node]['ai'] = cnt\n",
    "    g.nodes[node]['bi'] =  g.degree[node] - cnt\n",
    "    \n",
    "\n",
    "C_edges = np.zeros((num_cluster, num_cluster), dtype=np.int64)\n",
    "\n",
    "for edge in g.edges:\n",
    "    ci = inverse_cluster_dict[edge[0]]\n",
    "    cj = inverse_cluster_dict[edge[1]]\n",
    "    C_edges[ci,cj] += 1\n",
    "    C_edges[cj,ci] += 1\n",
    "    \n",
    "\n",
    "\n",
    "C_tensor = torch.tensor(C_edges, dtype = torch.float64)"
   ]
  },
  {
   "cell_type": "code",
   "execution_count": 12,
   "metadata": {},
   "outputs": [
    {
     "data": {
      "text/plain": [
       "tensor([[ 1.0000,  0.1427, -1.0000,  0.6996,  0.7091],\n",
       "        [ 0.1427,  1.0000, -0.1418,  0.3100,  0.2580],\n",
       "        [-1.0000, -0.1418,  1.0000, -0.6975, -0.7071],\n",
       "        [ 0.6996,  0.3100, -0.6975,  1.0000,  0.9982],\n",
       "        [ 0.7091,  0.2580, -0.7071,  0.9982,  1.0000]], dtype=torch.float64)"
      ]
     },
     "execution_count": 12,
     "metadata": {},
     "output_type": "execute_result"
    }
   ],
   "source": [
    "eps = 1e-6\n",
    "U = torch.tensor(np.load(\"optimized_cov/L_matrix_cov_res2_omega1_stf.npy\"))\n",
    "Z = torch.matmul(U, U.T)\n",
    "V = torch.arcsin(Z/(1+eps))/(2*torch.pi)\n",
    "\n",
    "Z[5:10, 5:10]"
   ]
  },
  {
   "cell_type": "code",
   "execution_count": 15,
   "metadata": {},
   "outputs": [
    {
     "data": {
      "text/plain": [
       "tensor([[58512.,  3936.,  2332.,  3564.,  3661.],\n",
       "        [ 3936., 32360.,  1699.,  5175.,  5990.],\n",
       "        [ 2332.,  1699., 15314.,  3354.,  2987.],\n",
       "        [ 3564.,  5175.,  3354., 21478.,  4299.],\n",
       "        [ 3661.,  5990.,  2987.,  4299., 18708.]], dtype=torch.float64)"
      ]
     },
     "execution_count": 15,
     "metadata": {},
     "output_type": "execute_result"
    }
   ],
   "source": [
    "C_tensor[5:10, 5:10]"
   ]
  },
  {
   "cell_type": "code",
   "execution_count": null,
   "metadata": {},
   "outputs": [],
   "source": []
  }
 ],
 "metadata": {
  "kernelspec": {
   "display_name": "base",
   "language": "python",
   "name": "python3"
  },
  "language_info": {
   "codemirror_mode": {
    "name": "ipython",
    "version": 3
   },
   "file_extension": ".py",
   "mimetype": "text/x-python",
   "name": "python",
   "nbconvert_exporter": "python",
   "pygments_lexer": "ipython3",
   "version": "3.9.17"
  },
  "orig_nbformat": 4
 },
 "nbformat": 4,
 "nbformat_minor": 2
}
